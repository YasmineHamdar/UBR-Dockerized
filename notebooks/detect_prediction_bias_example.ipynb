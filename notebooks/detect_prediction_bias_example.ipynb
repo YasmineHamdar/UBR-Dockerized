{
 "cells": [
  {
   "cell_type": "markdown",
   "metadata": {},
   "source": [
    "# Predicting utilization of medical services: bias detection\n",
    "\n",
    "In this tutorial we illustrate that empirical quantiles can be used to detect prediction bias. Follow the instructions in `cqr/get_meps_data/` folder to download the data set. This experiments replicates Figure 1 in the equalized coverage paper.\n",
    "\n",
    "The Medical Expenditure Panel Survey (MEPS) 2016 data set, provided by the Agency for Healthcare Research and Quality, contains information on individuals and their utilization of medical services. The features used for modeling include age, marital status, race, poverty status, functional limitations, health status, health insurance type, and more. The goal is to predict the health care system utilization of each individual; a score that reflects the number of visits to a doctor’s office, hospital visits, etc. After removing observations with missing entries, there are $n=15656$ observations on $p=139$ features. We set the sensitive attribute $A$ to race, with $A=0$ for non-white and $A=1$ for white individuals, resulting in $n_0=9640$ samples for the first group and $n_1=6016$ for the second.\n",
    "\n",
    "The code starts by randomly splitting the data into train (80%) and test (20%) sets and standardized the features to have zero mean and unit variance; the means and variances are computed using the training examples. We also transform the response variable by $Y = \\log(1 + (\\text{utilization score}))$ as the raw score is highly skewed."
   ]
  },
  {
   "cell_type": "code",
   "execution_count": 1,
   "metadata": {},
   "outputs": [
    {
     "name": "stdout",
     "output_type": "stream",
     "text": [
      "Data set name: meps_21\n",
      "Data set dimensions: (n=15656, p=139)\n",
      "A=0 : non-white\n",
      "A=1 : white\n",
      "Samples per group: A=0 (n=9640) ; A=1 (n=6016)\n",
      "Train set (n=12524, p=139) ; Test set (n=3132, p=139)\n"
     ]
    }
   ],
   "source": [
    "import os\n",
    "import sys\n",
    "import torch\n",
    "import random\n",
    "import numpy as np\n",
    "np.warnings.filterwarnings('ignore')\n",
    "\n",
    "from cqr import helper\n",
    "from datasets import datasets\n",
    "from matplotlib import pyplot\n",
    "from sklearn.preprocessing import StandardScaler\n",
    "from sklearn.model_selection import train_test_split\n",
    "\n",
    "# set some arbitrary seed for reproducability \n",
    "seed = 1234\n",
    "\n",
    "random.seed(seed)\n",
    "np.random.seed(seed)\n",
    "torch.manual_seed(seed)\n",
    "if torch.cuda.is_available():\n",
    "    torch.cuda.manual_seed_all(seed)\n",
    "\n",
    "save_figures = 0\n",
    "dataset_name = \"meps_21\"\n",
    "\n",
    "random_state_train_test = seed\n",
    "random.seed(seed)\n",
    "np.random.seed(seed)\n",
    "torch.manual_seed(seed)\n",
    "if torch.cuda.is_available():\n",
    "    torch.cuda.manual_seed_all(seed)\n",
    "\n",
    "# path to meps data set, download by following the instructions in ./cqr/get_meps_data/\n",
    "dataset_base_path = '/Users/romano/mydata/regression_data/'\n",
    "\n",
    "# used to determine the size of test set\n",
    "test_ratio = 0.2\n",
    "\n",
    "# load the dataset\n",
    "X, y = datasets.GetDataset(dataset_name, dataset_base_path)\n",
    "\n",
    "# display basic information\n",
    "print(\"Data set name: %s\" % (dataset_name))\n",
    "print(\"Data set dimensions: (n=%d, p=%d)\" % \n",
    "      (X.shape[0], X.shape[1]))\n",
    "\n",
    "print(\"A=0 : non-white\")\n",
    "print(\"A=1 : white\")\n",
    "print(\"Samples per group: A=0 (n=%d) ; A=1 (n=%d)\" % \n",
    "      (X[X[:,-1]==0].shape[0], X[X[:,-1]==1].shape[0]))\n",
    "\n",
    "dataset_name_group_0 = dataset_name + \"_non_white\"\n",
    "dataset_name_group_1 = dataset_name + \"_white\"\n",
    "\n",
    "# divide the dataset into test and train based on the test_ratio parameter\n",
    "x_train_orig, x_test_orig, y_train_orig, y_test_orig = train_test_split(X,\n",
    "                                                                        y,\n",
    "                                                                        test_size=test_ratio,\n",
    "                                                                        random_state=random_state_train_test)\n",
    "\n",
    "\n",
    "# zero mean and unit variance scaling \n",
    "scalerX = StandardScaler()\n",
    "scalerX = scalerX.fit(x_train_orig)\n",
    "\n",
    "# scale\n",
    "x_train = scalerX.transform(x_train_orig)\n",
    "x_test = scalerX.transform(x_test_orig)\n",
    "\n",
    "y_train = np.log(1.0 + y_train_orig)\n",
    "y_test = np.log(1.0 + y_test_orig)\n",
    "\n",
    "# reshape the data\n",
    "y_train = np.squeeze(np.asarray(y_train))\n",
    "y_test = np.squeeze(np.asarray(y_test))\n",
    "\n",
    "# compute input dimensions\n",
    "n_train = x_train.shape[0]\n",
    "in_shape = x_train.shape[1]\n",
    "\n",
    "print(\"Train set (n=%d, p=%d) ; Test set (n=%d, p=%d)\" % \n",
    "      (x_train.shape[0], x_train.shape[1], x_test.shape[0], x_test.shape[1]))"
   ]
  },
  {
   "cell_type": "markdown",
   "metadata": {},
   "source": [
    "Next, we fit a neural network regression function on the training set."
   ]
  },
  {
   "cell_type": "code",
   "execution_count": 2,
   "metadata": {},
   "outputs": [
    {
     "name": "stdout",
     "output_type": "stream",
     "text": [
      "Test MSE = 0.77782035\n"
     ]
    }
   ],
   "source": [
    "# pytorch's optimizer object\n",
    "nn_learn_func = torch.optim.Adam\n",
    "\n",
    "# number of epochs\n",
    "epochs = 1000\n",
    "\n",
    "# learning rate\n",
    "lr = 0.0005\n",
    "\n",
    "# mini-batch size\n",
    "batch_size = 64\n",
    "\n",
    "# hidden dimension of the network\n",
    "hidden_size = 64\n",
    "\n",
    "# dropout regularization rate\n",
    "dropout = 0.1\n",
    "\n",
    "# weight decay regularization\n",
    "wd = 1e-6\n",
    "\n",
    "# seed for splitting the data in cross-validation.\n",
    "cv_test_ratio = 0.1\n",
    "\n",
    "# ratio of held-out data, used in cross-validation\n",
    "cv_random_state = 1\n",
    "\n",
    "model = helper.MSENet_RegressorAdapter(model=None,\n",
    "                                       fit_params=None,\n",
    "                                       in_shape = in_shape,\n",
    "                                       hidden_size = hidden_size,\n",
    "                                       learn_func = nn_learn_func,\n",
    "                                       epochs = epochs,\n",
    "                                       batch_size=batch_size,\n",
    "                                       dropout=dropout,\n",
    "                                       lr=lr,\n",
    "                                       wd=wd,\n",
    "                                       test_ratio=cv_test_ratio,\n",
    "                                       random_state=cv_random_state)\n",
    "    \n",
    "model.fit(x_train,y_train)\n",
    "predictions = model.predict(x_test)\n",
    "MSE = np.mean((predictions - y_test)**2)\n",
    "\n",
    "print('Test MSE = ' + str(MSE))"
   ]
  },
  {
   "cell_type": "markdown",
   "metadata": {},
   "source": [
    "Below, we compute the signed residuals of the test samples,\n",
    "$$R_i = Y_i - \\hat{Y}_i,$$\n",
    "where $\\hat{Y}_i $ is the predicted response, and then compute the resulting empirical cumulative distribution functions $\\mathbb{P}\\{R \\leq r | A=0\\}$ and $\\mathbb{P}\\{R \\leq r | A=1\\}$."
   ]
  },
  {
   "cell_type": "code",
   "execution_count": 3,
   "metadata": {},
   "outputs": [
    {
     "name": "stdout",
     "output_type": "stream",
     "text": [
      "A=0: median = 0.5127405096203849; upper quantile = 1.5930867; lower quantile = -1.0478824\n",
      "A=1: median = 0.45492142266335817; upper quantile = 1.83082; lower quantile = -1.2507485\n"
     ]
    }
   ],
   "source": [
    "# function that extracts the group identifier\n",
    "def condition(x, y=None):\n",
    "    return int(x[0][-1]>0)\n",
    "\n",
    "# extract groups\n",
    "category_map = np.array([condition((x_test[i, :], None)) for i in range(x_test.shape[0])])\n",
    "categories = np.unique(category_map)\n",
    "\n",
    "# compute quantiles\n",
    "signed_residual = (y_test - predictions)\n",
    "signed_residual_0 = signed_residual[category_map == 0]\n",
    "signed_residual_1 = signed_residual[category_map == 1]\n",
    "\n",
    "# compute alpha/2 and 1-alpha/2 quantiles\n",
    "def compute_lo_hi_q(residuals, alpha):\n",
    "    err_high = np.reshape(residuals, (residuals.shape[0],1))\n",
    "    err_low = np.reshape(-residuals, (residuals.shape[0],1))\n",
    "    residuals = np.concatenate((err_low,err_high),1)\n",
    "    residuals = np.sort(residuals,0)\n",
    "    index = int(np.ceil((1 - alpha / 2) * (residuals.shape[0]))) - 1\n",
    "    return -residuals[index,0], residuals[index,1]\n",
    "\n",
    "# compute 0.05th and 0.95th quantiles per group\n",
    "lo_0, up_0 = compute_lo_hi_q(signed_residual_0, alpha=0.1)\n",
    "lo_1, up_1 = compute_lo_hi_q(signed_residual_1, alpha=0.1)\n",
    "med_0 = sum(signed_residual_0<=0)/len(signed_residual_0)\n",
    "med_1 = sum(signed_residual_1<=0)/len(signed_residual_1)\n",
    "\n",
    "print(\"A=0: median = \" + str(med_0) + \"; upper quantile = \" + str(up_0) + \"; lower quantile = \" + str(lo_0))\n",
    "print(\"A=1: median = \" + str(med_1) + \"; upper quantile = \" + str(up_1) + \"; lower quantile = \" + str(lo_1))\n",
    "\n",
    "# compute CDFs\n",
    "nbins = 100\n",
    "bins = np.linspace(min(signed_residual),max(signed_residual),nbins)\n",
    "\n",
    "counts_0, bin_edges_0 = np.histogram((signed_residual_0), bins=bins, normed=True)\n",
    "cdf_0 = np.cumsum(counts_0)\n",
    "\n",
    "counts_1, bin_edges_1 = np.histogram((signed_residual_1), bins=bins, normed=True)\n",
    "cdf_1 = np.cumsum(counts_1)"
   ]
  },
  {
   "cell_type": "markdown",
   "metadata": {},
   "source": [
    "The next cell display the two CDF functions."
   ]
  },
  {
   "cell_type": "code",
   "execution_count": 4,
   "metadata": {},
   "outputs": [
    {
     "data": {
      "image/png": "[encoded data removed]",
      "text/plain": [
       "<Figure size 432x288 with 1 Axes>"
      ]
     },
     "metadata": {
      "needs_background": "light"
     },
     "output_type": "display_data"
    }
   ],
   "source": [
    "# display results\n",
    "\n",
    "SMALL_SIZE = 16\n",
    "MEDIUM_SIZE = SMALL_SIZE\n",
    "BIGGER_SIZE = SMALL_SIZE\n",
    "\n",
    "pyplot.rc('font', size=SMALL_SIZE)          # controls default text sizes\n",
    "pyplot.rc('axes', titlesize=SMALL_SIZE)     # fontsize of the axes title\n",
    "pyplot.rc('axes', labelsize=MEDIUM_SIZE)    # fontsize of the x and y labels\n",
    "pyplot.rc('xtick', labelsize=SMALL_SIZE)    # fontsize of the tick labels\n",
    "pyplot.rc('ytick', labelsize=SMALL_SIZE)    # fontsize of the tick labels\n",
    "pyplot.rc('legend', fontsize=SMALL_SIZE)    # legend fontsize\n",
    "pyplot.rc('figure', titlesize=BIGGER_SIZE)  # fontsize of the figure title\n",
    "\n",
    "pyplot.rc('text', usetex=True)\n",
    "pyplot.plot(bin_edges_0[1:], cdf_0/cdf_0[-1], alpha=0.5, linewidth=4, label='non-white')\n",
    "pyplot.plot(bin_edges_1[1:], cdf_1/cdf_1[-1], alpha=0.5, linewidth=4, label='white')\n",
    "pyplot.axvline(0, color='gray',linestyle=':',linewidth=2)\n",
    "pyplot.axhline(med_0, color='royalblue',linestyle=':',linewidth=2)\n",
    "pyplot.axhline(med_1, color='tomato',linestyle=':',linewidth=2)\n",
    "pyplot.axvline(up_0, color='royalblue',linestyle=':',linewidth=2)\n",
    "pyplot.axvline(lo_0, color='royalblue',linestyle=':',linewidth=2)\n",
    "pyplot.axvline(up_1, color='tomato',linestyle=':',linewidth=2)\n",
    "pyplot.axvline(lo_1, color='tomato',linestyle=':',linewidth=2)\n",
    "pyplot.axhline(0.05, color='gray',linestyle=':',linewidth=2)\n",
    "pyplot.axhline(0.95, color='gray',linestyle=':',linewidth=2)\n",
    "\n",
    "pyplot.title('CDF of signed residuals, $R=Y-\\hat{Y}$')\n",
    "pyplot.ylabel(r'$\\mathbf{P}(R \\leq r | A)$')\n",
    "pyplot.xlabel(r'$r$')\n",
    "pyplot.legend(loc='center right', bbox_to_anchor=(0.4, 0.75))\n",
    "\n",
    "if save_figures:\n",
    "    filename = \"CDF_combined_q.png\"\n",
    "    pyplot.savefig(filename, bbox_inches='tight', dpi=300)\n",
    "    \n",
    "pyplot.show()"
   ]
  },
  {
   "cell_type": "markdown",
   "metadata": {},
   "source": [
    "Observe that $\\mathbb{P}\\{R \\leq r | A=0\\} \\neq \\mathbb{P}\\{R \\leq r | A=1\\}$. In particular, when comparing the two functions at $r=0$, we see that the fitted regression function overestimates the response of the non-white group and underestimates the response of the white group, as\n",
    "$$\n",
    "\\mathbb{P}\\{Y \\leq \\hat{Y} | A=0\\} = 0.51 > 0.45 = \\mathbb{P}\\{Y \\leq \\hat{Y} | A=1\\}.\n",
    "$$"
   ]
  },
  {
   "cell_type": "code",
   "execution_count": null,
   "metadata": {},
   "outputs": [],
   "source": []
  }
 ],
 "metadata": {
  "kernelspec": {
   "display_name": "Python 3",
   "language": "python",
   "name": "python3"
  },
  "language_info": {
   "codemirror_mode": {
    "name": "ipython",
    "version": 3
   },
   "file_extension": ".py",
   "mimetype": "text/x-python",
   "name": "python",
   "nbconvert_exporter": "python",
   "pygments_lexer": "ipython3",
   "version": "3.7.3"
  }
 },
 "nbformat": 4,
 "nbformat_minor": 2
}
